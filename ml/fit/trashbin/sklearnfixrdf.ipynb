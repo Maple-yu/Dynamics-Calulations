{
 "metadata": {
  "language_info": {
   "codemirror_mode": {
    "name": "ipython",
    "version": 3
   },
   "file_extension": ".py",
   "mimetype": "text/x-python",
   "name": "python",
   "nbconvert_exporter": "python",
   "pygments_lexer": "ipython3",
   "version": "3.8.5-final"
  },
  "orig_nbformat": 2,
  "kernelspec": {
   "name": "python3",
   "display_name": "Python 3.8.5 64-bit",
   "metadata": {
    "interpreter": {
     "hash": "916dbcbb3f70747c44a77c7bcd40155683ae19c65e1c03b4aa3499c5328201f1"
    }
   }
  }
 },
 "nbformat": 4,
 "nbformat_minor": 2,
 "cells": [
  {
   "cell_type": "code",
   "execution_count": null,
   "metadata": {},
   "outputs": [],
   "source": [
    "import numpy as np\n",
    "import matplotlib.pylab as plt\n",
    "from scipy import stats\n",
    "import math"
   ]
  },
  {
   "cell_type": "code",
   "execution_count": null,
   "metadata": {},
   "outputs": [],
   "source": [
    "#读取 g(r) 的数据 并绘制原始图片\n",
    "rdf = np.loadtxt('./rdf-ave.txt')\n",
    "plt.title('The original g(r)')\n",
    "plt.xlabel('r/Å')\n",
    "plt.ylabel('g(r)')\n",
    "plt.plot(rdf[:,0],rdf[:,1],)\n",
    "plt.show()"
   ]
  },
  {
   "cell_type": "code",
   "execution_count": null,
   "metadata": {},
   "outputs": [],
   "source": [
    "#截取 g(r) 第一峰的数据\n",
    "rdf_1 = rdf[127:184,:]\n",
    "plt.title('The first peak of g(r)')\n",
    "plt.xlabel('r/Å')\n",
    "plt.ylabel('g(r)')\n",
    "plt.plot(rdf_1[:,0],rdf_1[:,1],)\n",
    "plt.show()"
   ]
  },
  {
   "cell_type": "code",
   "execution_count": 12,
   "metadata": {},
   "outputs": [
    {
     "output_type": "stream",
     "name": "stdout",
     "text": [
      "GaussianMixture(n_components=2)\n"
     ]
    }
   ],
   "source": [
    "from sklearn.mixture import GaussianMixture\n",
    "gmm = GaussianMixture(n_components=2,covariance_type='full').fit(rdf_1)\n",
    "gmm.fit(rdf_1)\n",
    "print(gmm)"
   ]
  },
  {
   "cell_type": "code",
   "execution_count": null,
   "metadata": {},
   "outputs": [],
   "source": [
    "#test of the first value\n",
    "mean3, sigma3 = 1.42, 0.13\n",
    "x3 = np.linspace(mean3 - 6*sigma3, mean3 + 6*sigma3, 400)\n",
    "y3 = normal_distribution(x3, mean3, sigma3)\n",
    "mean4, sigma4 = 1.54, 0.13\n",
    "x4 = np.linspace(mean4 - 6*sigma4, mean4 + 6*sigma4, 400)\n",
    "y4 = normal_distribution(x4, mean4, sigma4)\n",
    "\n",
    "plt.plot(x3 ,y3 ,'gx' ,label='y3')\n",
    "plt.plot(x4 ,y4, 'r*' ,label='y4')\n",
    "plt.xlim(1.2,1.84)\n",
    "plt.show()"
   ]
  },
  {
   "cell_type": "code",
   "execution_count": null,
   "metadata": {},
   "outputs": [],
   "source": [
    "a = rdf_1[:,1]\n",
    "#GMM的起始值\n",
    "#Step 1.首先根据经验来分别对Gauss peak 的均值、方差和权值进行初始化\n",
    "mu1=1.42;sigma1=0.13;w1=0.38#sp2 peak\n",
    "mu2=1.54;sigma2=0.13;w2=0.61#sp3 peak\n",
    "\n",
    "d=1\n",
    "n = len(rdf)  # 样本长度\n",
    "# 开始EM算法的主循环\n",
    "for iteration in range(100):\n",
    "    mu1,sigma1,w1,mu2,sigma2,w2=em(a,mu1,sigma1,w1,mu2,sigma2,w2)\n",
    "print(mu1,sigma1,w1,mu2,sigma2,w2)"
   ]
  },
  {
   "cell_type": "code",
   "execution_count": null,
   "metadata": {},
   "outputs": [],
   "source": [
    "#Draw the fixed gauss\n",
    "#x1 = np.linspace(mu1 - 1*sigma1, mu1 + 1*sigma1, 400)\n",
    "x1 = np.linspace(1 ,2 ,100)\n",
    "y1 = w1*normal_distribution(x1, mu1, sigma1)\n",
    "#x2 = np.linspace(mu2 - 1*sigma2, mu2 + 1*sigma2, 400)\n",
    "x2 = np.linspace(1 ,2 ,100)\n",
    "y2 = w2*normal_distribution(x2, mu2, sigma2)\n",
    "\n",
    "plt.title('The fixed gauss peaks')\n",
    "plt.plot(x1 ,y1 ,'g.' ,label='y1')\n",
    "plt.plot(x2 ,y2, 'r.' ,label='y2')\n",
    "\n",
    "plt.show()"
   ]
  },
  {
   "cell_type": "code",
   "execution_count": null,
   "metadata": {},
   "outputs": [],
   "source": [
    "# show the fix result\n",
    "plt.title('The fix result')\n",
    "x = (x1 + x2)/2\n",
    "y = y1 + y2\n",
    "plt.plot(x ,y ,'b.' ,label='y1')\n",
    "plt.show()\n"
   ]
  },
  {
   "cell_type": "code",
   "execution_count": null,
   "metadata": {},
   "outputs": [],
   "source": [
    "# draw the totel figure\n",
    "plt.subplot(2,2,1)\n",
    "plt.title('The original g(r)')\n",
    "plt.xlabel('r/Å')\n",
    "plt.ylabel('g(r)')\n",
    "plt.plot(rdf[:,0],rdf[:,1],)\n",
    "\n",
    "plt.subplot(2,2,2)\n",
    "plt.title('The first peak of g(r)')\n",
    "plt.xlabel('r/Å')\n",
    "plt.ylabel('g(r)')\n",
    "plt.plot(rdf_1[:,0],rdf_1[:,1],)\n",
    "\n",
    "plt.subplot(2,2,3)\n",
    "plt.title('The two fixed peaks')\n",
    "plt.plot(x1 ,y1 ,'g.' ,label='y1')\n",
    "plt.plot(x2 ,y2, 'r.' ,label='y2')\n",
    "plt.xlim(1.2,1.84)\n",
    "\n",
    "plt.subplot(2,2,4)\n",
    "plt.title('The fix result')\n",
    "x = (x1 + x2)/2\n",
    "y = y1 + y2\n",
    "plt.plot(x ,y ,'b.' ,label='y1')\n",
    "\n",
    "plt.show()"
   ]
  },
  {
   "cell_type": "code",
   "execution_count": null,
   "metadata": {},
   "outputs": [],
   "source": []
  }
 ]
}